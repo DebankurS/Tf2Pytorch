{
 "cells": [
  {
   "cell_type": "code",
   "execution_count": 2,
   "metadata": {},
   "outputs": [
    {
     "data": {
      "application/javascript": [
       "if (!(\"Notification\" in window)) {\n",
       "    alert(\"This browser does not support desktop notifications, so the %%notify magic will not work.\");\n",
       "} else if (Notification.permission !== 'granted' && Notification.permission !== 'denied') {\n",
       "    Notification.requestPermission(function (permission) {\n",
       "        if(!('permission' in Notification)) {\n",
       "            Notification.permission = permission;\n",
       "        }\n",
       "    })\n",
       "}\n"
      ],
      "text/plain": [
       "<IPython.core.display.Javascript object>"
      ]
     },
     "metadata": {},
     "output_type": "display_data"
    }
   ],
   "source": [
    "%load_ext jupyternotify"
   ]
  },
  {
   "cell_type": "code",
   "execution_count": 3,
   "metadata": {},
   "outputs": [
    {
     "data": {
      "application/javascript": [
       "$(document).ready(\n",
       "    function() {\n",
       "        function appendUniqueDiv(){\n",
       "            // append a div with our uuid so we can check that it's already\n",
       "            // been sent and avoid duplicates on page reload\n",
       "            var notifiedDiv = document.createElement(\"div\")\n",
       "            notifiedDiv.id = \"547b9912-f792-422d-94b6-26b227bab1e5\"\n",
       "            element.append(notifiedDiv)\n",
       "        }\n",
       "\n",
       "        // only send notifications if the pageload is complete; this will\n",
       "        // help stop extra notifications when a saved notebook is loaded,\n",
       "        // which during testing gives us state \"interactive\", not \"complete\"\n",
       "        if (document.readyState === 'complete') {\n",
       "            // check for the div that signifies that the notification\n",
       "            // was already sent\n",
       "            if (document.getElementById(\"547b9912-f792-422d-94b6-26b227bab1e5\") === null) {\n",
       "                var notificationPayload = {\"requireInteraction\": false, \"icon\": \"/static/base/images/favicon.ico\", \"body\": \"Cell execution has finished!\"};\n",
       "                if (Notification.permission !== 'denied') {\n",
       "                    if (Notification.permission !== 'granted') { \n",
       "                        Notification.requestPermission(function (permission) {\n",
       "                            if(!('permission' in Notification)) {\n",
       "                                Notification.permission = permission\n",
       "                            }\n",
       "                        })\n",
       "                    }\n",
       "                    if (Notification.permission === 'granted') {\n",
       "                    var notification = new Notification(\"Jupyter Notebook\", notificationPayload)\n",
       "                    appendUniqueDiv()\n",
       "                    notification.onclick = function () {\n",
       "                        window.focus();\n",
       "                        this.close();\n",
       "                        };\n",
       "                    } \n",
       "                }     \n",
       "            }\n",
       "        }\n",
       "    }\n",
       ")\n"
      ],
      "text/plain": [
       "<IPython.core.display.Javascript object>"
      ]
     },
     "metadata": {},
     "output_type": "display_data"
    }
   ],
   "source": [
    "%%notify\n",
    "import os\n",
    "import glob\n",
    "data_dir='./data/aclImdb/'\n",
    "trainX,testX, trainy,testy=[],[],[],[]\n",
    "for data_type in ['train','test']:\n",
    "    for sentiment in ['pos','neg']:\n",
    "        path=os.path.join(data_dir,data_type,sentiment,'*.txt')\n",
    "        files=glob.glob(path)\n",
    "        \n",
    "        for f in files:\n",
    "            with open(f,encoding='utf8') as review:\n",
    "                if(data_type=='train'):\n",
    "                    trainX.append(review.read())\n",
    "                    trainy.append(1 if sentiment=='pos' else 0)\n",
    "                else:\n",
    "                    testX.append(review.read())\n",
    "                    testy.append(1 if sentiment=='pos' else 0)"
   ]
  },
  {
   "cell_type": "code",
   "execution_count": 4,
   "metadata": {},
   "outputs": [
    {
     "name": "stdout",
     "output_type": "stream",
     "text": [
      "Training data of size 25000\n",
      "Testing data of size 25000\n"
     ]
    }
   ],
   "source": [
    "print('Training data of size {}'.format(len(trainX)))\n",
    "print('Testing data of size {}'.format(len(testX)))"
   ]
  },
  {
   "cell_type": "code",
   "execution_count": 5,
   "metadata": {},
   "outputs": [],
   "source": [
    "from sklearn.utils import shuffle\n",
    "\n",
    "trainX,trainy=shuffle(trainX,trainy)\n",
    "testX,testy=shuffle(testX,testy)"
   ]
  },
  {
   "cell_type": "code",
   "execution_count": 6,
   "metadata": {},
   "outputs": [
    {
     "name": "stdout",
     "output_type": "stream",
     "text": [
      "Training data of size 25000\n",
      "Testing data of size 25000\n"
     ]
    }
   ],
   "source": [
    "print('Training data of size {}'.format(len(trainX)))\n",
    "print('Testing data of size {}'.format(len(testX)))"
   ]
  },
  {
   "cell_type": "code",
   "execution_count": 7,
   "metadata": {},
   "outputs": [],
   "source": [
    "import nltk\n",
    "from nltk.corpus import stopwords\n",
    "from nltk.stem.porter import *\n",
    "\n",
    "import re\n",
    "from bs4 import BeautifulSoup\n",
    "\n",
    "def review_to_words(review):\n",
    "    nltk.download(\"stopwords\", quiet=True)\n",
    "    stemmer = PorterStemmer()\n",
    "    \n",
    "    text = BeautifulSoup(review, \"html.parser\").get_text() # Remove HTML tags\n",
    "    text = re.sub(r\"[^a-zA-Z0-9]\", \" \", text.lower()) # Convert to lower case\n",
    "    words = text.split() # Split string into words\n",
    "    words = [w for w in words if w not in stopwords.words(\"english\")] # Remove stopwords\n",
    "    words = [PorterStemmer().stem(w) for w in words] # stem\n",
    "    \n",
    "    return words"
   ]
  },
  {
   "cell_type": "code",
   "execution_count": 8,
   "metadata": {},
   "outputs": [
    {
     "name": "stdout",
     "output_type": "stream",
     "text": [
      "Have to preprocess the data\n"
     ]
    }
   ],
   "source": [
    "import pickle\n",
    "\n",
    "cache_dir='./cache'\n",
    "cache_file='preprocessed_data.pkl'\n",
    "\n",
    "cache_data=None\n",
    "\n",
    "try:\n",
    "    with open(os.path.join(cache_dir,cache_file),'rb') as f:\n",
    "        cache_data=pickle.load(f)\n",
    "    print('Read data from cache')\n",
    "except:\n",
    "    print('Have to preprocess the data')\n",
    "    pass"
   ]
  },
  {
   "cell_type": "code",
   "execution_count": null,
   "metadata": {},
   "outputs": [],
   "source": [
    "%%notify\n",
    "if cache_data is None:\n",
    "    train_data=[review_to_words(review) for review in trainX]\n",
    "    test_data=[review_to_words(review) for review in testX]\n",
    "    \n",
    "    train_label=trainy\n",
    "    test_label=trainy\n",
    "    \n",
    "    trainX=testX=trainy=testy=None\n",
    "    \n",
    "    cache_data=dict(train_data=train_data,\n",
    "                   test_data=test_data,\n",
    "                   train_label=train_label,\n",
    "                   test_label=test_label)\n",
    "    \n",
    "    with open(os.path.join(cache_dir,cache_file),'wb') as f:\n",
    "        pickle.dump(cache_data,f)\n",
    "    \n",
    "else:\n",
    "    train_data=cache_data['train_data']\n",
    "    test_data=cache_data['test_data']\n",
    "    train_label=cache_data['train_label']\n",
    "    test_label=cache_data['test_label']"
   ]
  },
  {
   "cell_type": "code",
   "execution_count": null,
   "metadata": {},
   "outputs": [],
   "source": []
  }
 ],
 "metadata": {
  "kernelspec": {
   "display_name": "Python 3",
   "language": "python",
   "name": "python3"
  },
  "language_info": {
   "codemirror_mode": {
    "name": "ipython",
    "version": 3
   },
   "file_extension": ".py",
   "mimetype": "text/x-python",
   "name": "python",
   "nbconvert_exporter": "python",
   "pygments_lexer": "ipython3",
   "version": "3.6.8"
  }
 },
 "nbformat": 4,
 "nbformat_minor": 2
}
